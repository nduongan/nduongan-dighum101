{
 "cells": [
  {
   "cell_type": "markdown",
   "id": "85854be6-67ad-461f-a260-e843dd4baa32",
   "metadata": {},
   "source": [
    "# Influencer Marketing Individual Project "
   ]
  },
  {
   "cell_type": "markdown",
   "id": "957dfe8b-626b-43a3-817b-892b087ed6d2",
   "metadata": {},
   "source": [
    "## Annie Nguyen | DIGHUM101"
   ]
  },
  {
   "cell_type": "code",
   "execution_count": 12,
   "id": "249ce810-647b-4562-b532-52f92b386640",
   "metadata": {},
   "outputs": [
    {
     "data": {
      "text/html": [
       "<img src=\"https://entail-assets.com/mayple/644e1ebe7f0acdd5ba288d9b_influencermarketingstrategychecklist_7fabe1028c7d6232bce8066208246626_2000-1699518605929.jpg\"/>"
      ],
      "text/plain": [
       "<IPython.core.display.Image object>"
      ]
     },
     "execution_count": 12,
     "metadata": {},
     "output_type": "execute_result"
    }
   ],
   "source": [
    "from IPython.display import Image\n",
    "Image(url=\"https://entail-assets.com/mayple/644e1ebe7f0acdd5ba288d9b_influencermarketingstrategychecklist_7fabe1028c7d6232bce8066208246626_2000-1699518605929.jpg\")"
   ]
  },
  {
   "cell_type": "markdown",
   "id": "d2b5cbff-2e24-4359-85c9-7d557960ebc2",
   "metadata": {},
   "source": [
    "### Abstract\n",
    "Over the past ten years, the marketing landscape has changed drastically with the emergence of influencers and influencer marketing. This is why I have chosen to intern at a marketing company this summer as an Influencer Marketing intern. Throughout my internship, I have run into several data roadblocks. Platforms such as Tagger and Phlanx have a long time processing social media engagement rates. In addition to their long processing times, I can not help but wonder why these platforms charge users to check user engagement rates. Thus, for my individual project, I want to calculate users engagement rate across the biggest social media platform, Instagram. \n",
    "\n",
    "To calculate a user’s engagement rate, the following key metrics are required: number of posts, number of followers, number of comments, and number of likes. The formula for the engagement rate is \n",
    "\n",
    "Engagement = (Total Comments + Total Likes)/(Number of Posts   Number of Followers) * 100  \n",
    "\n",
    "Engagement rates are crucial when evaluating whether or not any given influencer is the right fit for a paid opportunity. From the few clients I have worked with, I have gathered that they do not see value in influencers and are very hesitant to pursue this form of marketing. An engagement rate tells marketers how much and how well an influencer does on their posts. This is because engagement “is a measure of all interactions” with one’s social media content. Companies want to partner with individuals that have strong followings or high engagement to make the most out of their content. \n"
   ]
  },
  {
   "cell_type": "code",
   "execution_count": null,
   "id": "2c22b1a3-4067-4e7e-8ba4-1918a2357793",
   "metadata": {},
   "outputs": [],
   "source": []
  }
 ],
 "metadata": {
  "kernelspec": {
   "display_name": "Python 3 (ipykernel)",
   "language": "python",
   "name": "python3"
  },
  "language_info": {
   "codemirror_mode": {
    "name": "ipython",
    "version": 3
   },
   "file_extension": ".py",
   "mimetype": "text/x-python",
   "name": "python",
   "nbconvert_exporter": "python",
   "pygments_lexer": "ipython3",
   "version": "3.11.7"
  }
 },
 "nbformat": 4,
 "nbformat_minor": 5
}
